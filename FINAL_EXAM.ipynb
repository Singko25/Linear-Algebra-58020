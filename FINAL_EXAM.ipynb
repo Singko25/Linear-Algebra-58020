{
  "nbformat": 4,
  "nbformat_minor": 0,
  "metadata": {
    "colab": {
      "name": "FINAL_EXAM.ipynb",
      "provenance": [],
      "authorship_tag": "ABX9TyM1PZd4XC098blNpbgfPn3n",
      "include_colab_link": true
    },
    "kernelspec": {
      "name": "python3",
      "display_name": "Python 3"
    },
    "language_info": {
      "name": "python"
    }
  },
  "cells": [
    {
      "cell_type": "markdown",
      "metadata": {
        "id": "view-in-github",
        "colab_type": "text"
      },
      "source": [
        "<a href=\"https://colab.research.google.com/github/Singko25/Linear-Algebra-58020/blob/main/FINAL_EXAM.ipynb\" target=\"_parent\"><img src=\"https://colab.research.google.com/assets/colab-badge.svg\" alt=\"Open In Colab\"/></a>"
      ]
    },
    {
      "cell_type": "markdown",
      "source": [
        "###FINAL EXAM\n"
      ],
      "metadata": {
        "id": "8SAGJrJQIan1"
      }
    },
    {
      "cell_type": "markdown",
      "source": [
        "##Problem 1"
      ],
      "metadata": {
        "id": "ysSJfT9VNTyO"
      }
    },
    {
      "cell_type": "code",
      "source": [
        "import numpy as np\n",
        "\n",
        "A = np.array([[1,1,1], [1,0,4], [0,0,5]])\n",
        "print(f'Matrix A: \\n {A}')\n",
        "print()\n",
        "\n",
        "B = np.array([[89],[89],[95]])\n",
        "print(f'Matrix B: \\n {A}')\n",
        "\n",
        "C = np.linalg.inv(A).dot(B)\n",
        "print(f'Matrix A inverse: \\n {C}')\n"
      ],
      "metadata": {
        "colab": {
          "base_uri": "https://localhost:8080/"
        },
        "id": "dnPz_ovYIcEB",
        "outputId": "16f9f45c-1e21-4ac1-d400-9ee54e51381a"
      },
      "execution_count": 11,
      "outputs": [
        {
          "output_type": "stream",
          "name": "stdout",
          "text": [
            "Matrix A: \n",
            " [[1 1 1]\n",
            " [1 0 4]\n",
            " [0 0 5]]\n",
            "\n",
            "Matrix B: \n",
            " [[1 1 1]\n",
            " [1 0 4]\n",
            " [0 0 5]]\n",
            "Matrix A inverse: \n",
            " [[13.]\n",
            " [57.]\n",
            " [19.]]\n"
          ]
        }
      ]
    },
    {
      "cell_type": "markdown",
      "source": [
        "##Problem 2"
      ],
      "metadata": {
        "id": "tz1wQEXsNQ5A"
      }
    },
    {
      "cell_type": "code",
      "source": [
        "import numpy as np\n",
        "\n",
        "A = np.array([[3,-1,1],[9,3,-3],[-12,4,-4]])\n",
        "print(f'Matrix A: \\n {A}')\n",
        "\n",
        "inv_A = np.linalg.pinv(A)\n",
        "print(f'Matrix A inverse: \\n {inv_A}')\n",
        "\n",
        "B = np.array([[5],[10],[-20]])\n",
        "print(f'Matrix A: \\n {A}')\n",
        "\n",
        "X = np.dot(inv_A,B)\n",
        "print(f'Dot product: \\n {X}')\n",
        "\n",
        "C = np.dot(A,X)\n",
        "print(f'Checking: \\n {C}')\n"
      ],
      "metadata": {
        "colab": {
          "base_uri": "https://localhost:8080/"
        },
        "id": "6oGs7HljLlCe",
        "outputId": "a1ff1acb-f137-4622-c864-89ef05ebe4d2"
      },
      "execution_count": 12,
      "outputs": [
        {
          "output_type": "stream",
          "name": "stdout",
          "text": [
            "Matrix A: \n",
            " [[  3  -1   1]\n",
            " [  9   3  -3]\n",
            " [-12   4  -4]]\n",
            "Matrix A inverse: \n",
            " [[ 0.00980392  0.05555556 -0.03921569]\n",
            " [-0.01470588  0.08333333  0.05882353]\n",
            " [ 0.01470588 -0.08333333 -0.05882353]]\n",
            "Matrix A: \n",
            " [[  3  -1   1]\n",
            " [  9   3  -3]\n",
            " [-12   4  -4]]\n",
            "Dot product: \n",
            " [[ 1.38888889]\n",
            " [-0.41666667]\n",
            " [ 0.41666667]]\n",
            "Checking: \n",
            " [[  5.]\n",
            " [ 10.]\n",
            " [-20.]]\n"
          ]
        }
      ]
    },
    {
      "cell_type": "markdown",
      "source": [
        "##Problem 3"
      ],
      "metadata": {
        "id": "rIUARLXmLm4d"
      }
    },
    {
      "cell_type": "code",
      "source": [
        "import numpy as np\n",
        "from numpy.linalg import eig\n",
        "\n",
        "A = np.array([[8,5,-6],[-12,-9,12],[-3,-3,5]])\n",
        "print(A,\"\\n\")\n",
        "B,C = np.linalg.eig(A)\n",
        "\n",
        "print(\"The eigenvalues: \\n\",B)\n",
        "print(\"The eigenvectors: \\n\",C .round())"
      ],
      "metadata": {
        "colab": {
          "base_uri": "https://localhost:8080/"
        },
        "id": "IcfrlO6nLlZo",
        "outputId": "a1616da8-9c00-4b4e-903b-bf1fe8be930a"
      },
      "execution_count": 10,
      "outputs": [
        {
          "output_type": "stream",
          "name": "stdout",
          "text": [
            "[[  8   5  -6]\n",
            " [-12  -9  12]\n",
            " [ -3  -3   5]] \n",
            "\n",
            "The eigenvalues: \n",
            " [-1.  3.  2.]\n",
            "The eigenvectors: \n",
            " [[ 0. -1.  1.]\n",
            " [-1.  1.  0.]\n",
            " [-0. -0.  1.]]\n"
          ]
        }
      ]
    }
  ]
}