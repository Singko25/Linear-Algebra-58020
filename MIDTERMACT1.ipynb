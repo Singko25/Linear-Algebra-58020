{
  "nbformat": 4,
  "nbformat_minor": 0,
  "metadata": {
    "colab": {
      "name": "MIDTERMACT1",
      "provenance": [],
      "authorship_tag": "ABX9TyPrUut8mCgw3LUKsQDYK2R9",
      "include_colab_link": true
    },
    "kernelspec": {
      "name": "python3",
      "display_name": "Python 3"
    },
    "language_info": {
      "name": "python"
    }
  },
  "cells": [
    {
      "cell_type": "markdown",
      "metadata": {
        "id": "view-in-github",
        "colab_type": "text"
      },
      "source": [
        "<a href=\"https://colab.research.google.com/github/Singko25/Linear-Algebra-58020/blob/main/MIDTERMACT1.ipynb\" target=\"_parent\"><img src=\"https://colab.research.google.com/assets/colab-badge.svg\" alt=\"Open In Colab\"/></a>"
      ]
    },
    {
      "cell_type": "markdown",
      "metadata": {
        "id": "CRj5eqwNsWqV"
      },
      "source": [
        "#Python program that applies an inverse of 3x3 or 4x4 matrix "
      ]
    },
    {
      "cell_type": "code",
      "metadata": {
        "colab": {
          "base_uri": "https://localhost:8080/"
        },
        "id": "vqt5lvE9rSoG",
        "outputId": "fe154c44-d05f-47b4-8987-d778bb4846b0"
      },
      "source": [
        "import numpy as np\n",
        "A = np.array([[4,-2,3],[9,1,1],[3,8,9]]) \n",
        "B = (np.linalg.inv(A))\n",
        "print(B)"
      ],
      "execution_count": 12,
      "outputs": [
        {
          "output_type": "stream",
          "name": "stdout",
          "text": [
            "[[ 0.0027248   0.11444142 -0.01362398]\n",
            " [-0.21253406  0.07356948  0.0626703 ]\n",
            " [ 0.1880109  -0.10354223  0.0599455 ]]\n"
          ]
        }
      ]
    },
    {
      "cell_type": "code",
      "metadata": {
        "colab": {
          "base_uri": "https://localhost:8080/"
        },
        "id": "8_wtZ_0etU7z",
        "outputId": "4b47ac23-9670-4425-bef9-c6ffbc76add9"
      },
      "source": [
        "A = np.array([[4,-2,3],[9,1,1],[3,8,9]])\n",
        "print(A)\n",
        "B = np.transpose(A)\n",
        "print(B)"
      ],
      "execution_count": 11,
      "outputs": [
        {
          "output_type": "stream",
          "name": "stdout",
          "text": [
            "[[ 4 -2  3]\n",
            " [ 9  1  1]\n",
            " [ 3  8  9]]\n",
            "[[ 4  9  3]\n",
            " [-2  1  8]\n",
            " [ 3  1  9]]\n"
          ]
        }
      ]
    },
    {
      "cell_type": "code",
      "metadata": {
        "colab": {
          "base_uri": "https://localhost:8080/"
        },
        "id": "9vGB1uXluhtI",
        "outputId": "6bdaed41-153e-41e0-bc12-a3760595d78e"
      },
      "source": [
        "import numpy as np \n",
        "A = np.array([[4,-2,3,7],[9,1,1,2],[3,8,9,6],[8,9,3,4]])\n",
        "B = (np.linalg.inv(A))\n",
        "print(B)"
      ],
      "execution_count": 13,
      "outputs": [
        {
          "output_type": "stream",
          "name": "stdout",
          "text": [
            "[[-0.02903099  0.14476265  0.00156924 -0.02393095]\n",
            " [-0.02824637 -0.1023931  -0.0255002   0.13887799]\n",
            " [-0.09258533  0.16437819  0.1941938  -0.21145547]\n",
            " [ 0.19105532 -0.18242448 -0.0914084   0.14397803]]\n"
          ]
        }
      ]
    },
    {
      "cell_type": "code",
      "metadata": {
        "colab": {
          "base_uri": "https://localhost:8080/"
        },
        "id": "w18ddsuCvLNW",
        "outputId": "a89c38c9-d79c-4be4-f4d5-22b9a573d060"
      },
      "source": [
        "A = np.array([[4,-2,3,7],[9,1,1,2],[3,8,9,6],[8,9,3,4]])\n",
        "print(A)\n",
        "B = np.transpose(A)\n",
        "print(B)"
      ],
      "execution_count": 14,
      "outputs": [
        {
          "output_type": "stream",
          "name": "stdout",
          "text": [
            "[[ 4 -2  3  7]\n",
            " [ 9  1  1  2]\n",
            " [ 3  8  9  6]\n",
            " [ 8  9  3  4]]\n",
            "[[ 4  9  3  8]\n",
            " [-2  1  8  9]\n",
            " [ 3  1  9  3]\n",
            " [ 7  2  6  4]]\n"
          ]
        }
      ]
    }
  ]
}