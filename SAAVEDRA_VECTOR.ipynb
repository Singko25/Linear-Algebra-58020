{
  "nbformat": 4,
  "nbformat_minor": 0,
  "metadata": {
    "colab": {
      "name": "SAAVEDRA.VECTOR",
      "provenance": [],
      "authorship_tag": "ABX9TyOtGVQm5TD5LnBTdixPObe0",
      "include_colab_link": true
    },
    "kernelspec": {
      "name": "python3",
      "display_name": "Python 3"
    },
    "language_info": {
      "name": "python"
    }
  },
  "cells": [
    {
      "cell_type": "markdown",
      "metadata": {
        "id": "view-in-github",
        "colab_type": "text"
      },
      "source": [
        "<a href=\"https://colab.research.google.com/github/Singko25/Linear-Algebra-58020/blob/main/SAAVEDRA_VECTOR.ipynb\" target=\"_parent\"><img src=\"https://colab.research.google.com/assets/colab-badge.svg\" alt=\"Open In Colab\"/></a>"
      ]
    },
    {
      "cell_type": "markdown",
      "metadata": {
        "id": "OII_-vczBEf0"
      },
      "source": [
        "Matrix And Its Operations\n"
      ]
    },
    {
      "cell_type": "code",
      "metadata": {
        "colab": {
          "base_uri": "https://localhost:8080/"
        },
        "id": "LXcz2148BK5y",
        "outputId": "54a8fd65-4c4f-478b-db33-a7e0e2bf602a"
      },
      "source": [
        "import numpy as nmp\n",
        "#Create a 1x3 array\n",
        "a = nmp.array([1,2,3])\n",
        "print(a)\n"
      ],
      "execution_count": null,
      "outputs": [
        {
          "output_type": "stream",
          "name": "stdout",
          "text": [
            "[1 2 3]\n"
          ]
        }
      ]
    },
    {
      "cell_type": "code",
      "metadata": {
        "colab": {
          "base_uri": "https://localhost:8080/"
        },
        "id": "9BXlm8DgDFA1",
        "outputId": "58d3806f-3649-4e87-c65b-e74740ed96b5"
      },
      "source": [
        "b = nmp.array([[1,2,3],[-1,-2,-3]])\n",
        "print(b)"
      ],
      "execution_count": 5,
      "outputs": [
        {
          "output_type": "stream",
          "name": "stdout",
          "text": [
            "[[ 1  2  3]\n",
            " [-1 -2 -3]]\n"
          ]
        }
      ]
    },
    {
      "cell_type": "code",
      "metadata": {
        "colab": {
          "base_uri": "https://localhost:8080/"
        },
        "id": "hXfnV93jD86b",
        "outputId": "39082773-5300-4ec2-c62a-5679fd30ea30"
      },
      "source": [
        "c = nmp.array([[1,2,3],[-1,-2,-3],[4,5,6]])\n",
        "print(c)"
      ],
      "execution_count": 7,
      "outputs": [
        {
          "output_type": "stream",
          "name": "stdout",
          "text": [
            "[[ 1  2  3]\n",
            " [-1 -2 -3]\n",
            " [ 4  5  6]]\n"
          ]
        }
      ]
    },
    {
      "cell_type": "code",
      "metadata": {
        "colab": {
          "base_uri": "https://localhost:8080/"
        },
        "id": "tBBwSBAYEhW4",
        "outputId": "6f8ed1ad-03e7-4c10-a2fd-99387a92f70f"
      },
      "source": [
        "d = nmp.array([[1,2,3],[-1,-2,-3],[4,5,6]])\n",
        "print(d)\n",
        "e = nmp.diagonal([[1,2,3],[-1,-2,-3],[4,5,6]])\n",
        "print(e)\n",
        "#diagonal"
      ],
      "execution_count": 8,
      "outputs": [
        {
          "output_type": "stream",
          "name": "stdout",
          "text": [
            "[[ 1  2  3]\n",
            " [-1 -2 -3]\n",
            " [ 4  5  6]]\n",
            "[ 1 -2  6]\n"
          ]
        }
      ]
    },
    {
      "cell_type": "code",
      "metadata": {
        "colab": {
          "base_uri": "https://localhost:8080/"
        },
        "id": "qbnaxR7rFEE4",
        "outputId": "e0587f80-150a-49e7-812a-e287505aa684"
      },
      "source": [
        "f = nmp.eye(3)\n",
        "print(f)\n",
        "#identity"
      ],
      "execution_count": 10,
      "outputs": [
        {
          "output_type": "stream",
          "name": "stdout",
          "text": [
            "[[1. 0. 0.]\n",
            " [0. 1. 0.]\n",
            " [0. 0. 1.]]\n"
          ]
        }
      ]
    },
    {
      "cell_type": "code",
      "metadata": {
        "colab": {
          "base_uri": "https://localhost:8080/"
        },
        "id": "7uKzsN-bFUWJ",
        "outputId": "fb5c8aed-d086-4cae-faf1-ed2c10df4020"
      },
      "source": [
        "g = nmp.zeros((8,3))\n",
        "print(g)\n",
        "#zero"
      ],
      "execution_count": 12,
      "outputs": [
        {
          "output_type": "stream",
          "name": "stdout",
          "text": [
            "[[0. 0. 0.]\n",
            " [0. 0. 0.]\n",
            " [0. 0. 0.]\n",
            " [0. 0. 0.]\n",
            " [0. 0. 0.]\n",
            " [0. 0. 0.]\n",
            " [0. 0. 0.]\n",
            " [0. 0. 0.]]\n"
          ]
        }
      ]
    },
    {
      "cell_type": "code",
      "metadata": {
        "colab": {
          "base_uri": "https://localhost:8080/"
        },
        "id": "fAAMZtm2FcQx",
        "outputId": "a5f4f974-e689-43d3-800b-4297c9558628"
      },
      "source": [
        "h = nmp.empty((0,5))\n",
        "print(h)\n",
        "#empty"
      ],
      "execution_count": 15,
      "outputs": [
        {
          "output_type": "stream",
          "name": "stdout",
          "text": [
            "[]\n"
          ]
        }
      ]
    },
    {
      "cell_type": "code",
      "metadata": {
        "colab": {
          "base_uri": "https://localhost:8080/"
        },
        "id": "4fBbDIjLFz4F",
        "outputId": "d46c2f65-7a6e-40aa-f4d3-fdf5399bb7cd"
      },
      "source": [
        "#matrix addition\n",
        "i = nmp.array([[1,2,3],[-1,-2,-3]])\n",
        "j = nmp.array([[3,4,5],[-3,-4,-5]])\n",
        "print(j+i)"
      ],
      "execution_count": 17,
      "outputs": [
        {
          "output_type": "stream",
          "name": "stdout",
          "text": [
            "[[ 4  6  8]\n",
            " [-4 -6 -8]]\n"
          ]
        }
      ]
    },
    {
      "cell_type": "code",
      "metadata": {
        "colab": {
          "base_uri": "https://localhost:8080/"
        },
        "id": "rYdJc0SFGYBO",
        "outputId": "04cb1fbb-5ec9-4c5d-f23e-ff14874d5aa7"
      },
      "source": [
        "#substraction\n",
        "k = nmp.array([[1,2,3],[-1,-2,-3]])\n",
        "l = nmp.array([[3,4,5],[-3,-4,-5]])\n",
        "print(k-l)"
      ],
      "execution_count": 18,
      "outputs": [
        {
          "output_type": "stream",
          "name": "stdout",
          "text": [
            "[[-2 -2 -2]\n",
            " [ 2  2  2]]\n"
          ]
        }
      ]
    }
  ]
}