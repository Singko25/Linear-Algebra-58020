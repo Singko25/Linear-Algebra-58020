{
  "nbformat": 4,
  "nbformat_minor": 0,
  "metadata": {
    "colab": {
      "name": "PracticalLabExam.ipynb",
      "provenance": [],
      "collapsed_sections": [],
      "authorship_tag": "ABX9TyNrAhu2FK856QagMytp15vo",
      "include_colab_link": true
    },
    "kernelspec": {
      "name": "python3",
      "display_name": "Python 3"
    },
    "language_info": {
      "name": "python"
    }
  },
  "cells": [
    {
      "cell_type": "markdown",
      "metadata": {
        "id": "view-in-github",
        "colab_type": "text"
      },
      "source": [
        "<a href=\"https://colab.research.google.com/github/Singko25/Linear-Algebra-58020/blob/main/PracticalLabExam.ipynb\" target=\"_parent\"><img src=\"https://colab.research.google.com/assets/colab-badge.svg\" alt=\"Open In Colab\"/></a>"
      ]
    },
    {
      "cell_type": "markdown",
      "metadata": {
        "id": "PH8skEsiQpB5"
      },
      "source": [
        "###Practical Lab Exam 1\n",
        "##John Louise M. Saavedra"
      ]
    },
    {
      "cell_type": "markdown",
      "metadata": {
        "id": "bDkYetsPVVkw"
      },
      "source": [
        "##Problem 1"
      ]
    },
    {
      "cell_type": "code",
      "metadata": {
        "colab": {
          "base_uri": "https://localhost:8080/"
        },
        "id": "AbNwo458KqQa",
        "outputId": "7cb9e929-6c5d-4147-e208-b3fa3260de6c"
      },
      "source": [
        "#1) A\n",
        "import numpy as np\n",
        "W = np.array([[1, -3],[2,-2],[3,1]])\n",
        "Y = np.array([[1, 2, 0],[0,-1,2]])\n",
        "\n",
        "print(np.dot(W,Y))"
      ],
      "execution_count": null,
      "outputs": [
        {
          "output_type": "stream",
          "name": "stdout",
          "text": [
            "[[ 1  5 -6]\n",
            " [ 2  6 -4]\n",
            " [ 3  5  2]]\n"
          ]
        }
      ]
    },
    {
      "cell_type": "code",
      "metadata": {
        "colab": {
          "base_uri": "https://localhost:8080/"
        },
        "id": "9ib73b5dOkwl",
        "outputId": "7cf00562-ee74-4999-9585-e9e747dc453b"
      },
      "source": [
        "#1) B\n",
        "Z = np.array([[0,1],[2,3]])\n",
        "print(Z-Z)\n"
      ],
      "execution_count": null,
      "outputs": [
        {
          "output_type": "stream",
          "name": "stdout",
          "text": [
            "[[0 0]\n",
            " [0 0]]\n"
          ]
        }
      ]
    },
    {
      "cell_type": "code",
      "metadata": {
        "colab": {
          "base_uri": "https://localhost:8080/"
        },
        "id": "-oFvyCs5PHNp",
        "outputId": "e68984e5-6c5f-4efc-bd62-e338b81c81aa"
      },
      "source": [
        "#1) C\n",
        "X = np.array([[3,2,1],[-1,2,3],[2,-1,1]])\n",
        "multiply_array = 3*X\n",
        "\n",
        "print(multiply_array)"
      ],
      "execution_count": null,
      "outputs": [
        {
          "output_type": "stream",
          "name": "stdout",
          "text": [
            "[[ 9  6  3]\n",
            " [-3  6  9]\n",
            " [ 6 -3  3]]\n"
          ]
        }
      ]
    },
    {
      "cell_type": "markdown",
      "metadata": {
        "id": "zG65Lhz4VZUJ"
      },
      "source": [
        "##Problem 2\n"
      ]
    },
    {
      "cell_type": "code",
      "metadata": {
        "colab": {
          "base_uri": "https://localhost:8080/"
        },
        "id": "V9EGM5CtRa6A",
        "outputId": "ef83ad8b-9117-4018-d821-8c3426a85b12"
      },
      "source": [
        "#2) A\n",
        "Y = np.array([[1, 2, 0],[0,-1,2]])\n",
        "W = np.array([[1, -3],[2,-2],[3,1]])\n",
        "\n",
        "print(np.dot(Y,W)^2)"
      ],
      "execution_count": null,
      "outputs": [
        {
          "output_type": "stream",
          "name": "stdout",
          "text": [
            "[[ 7 -5]\n",
            " [ 6  6]]\n"
          ]
        }
      ]
    },
    {
      "cell_type": "code",
      "metadata": {
        "colab": {
          "base_uri": "https://localhost:8080/"
        },
        "id": "-9u8N76rSD4u",
        "outputId": "4be634c4-7afe-46fe-fc3a-98842e7b49e8"
      },
      "source": [
        "#2) B\n",
        "import numpy as np\n",
        "W = np.array([[1, -3],[2,-2],[3,1]])\n",
        "print('Vector W is', W)"
      ],
      "execution_count": null,
      "outputs": [
        {
          "output_type": "stream",
          "name": "stdout",
          "text": [
            "Vector W is [[ 1 -3]\n",
            " [ 2 -2]\n",
            " [ 3  1]]\n"
          ]
        }
      ]
    },
    {
      "cell_type": "code",
      "metadata": {
        "colab": {
          "base_uri": "https://localhost:8080/"
        },
        "id": "5j_57LBDXHux",
        "outputId": "e44a8ad5-7593-4df7-81ce-ac5cac407727"
      },
      "source": [
        "import numpy as np\n",
        "Y = np.array([[1, 2, 0],[0,-1,2]])\n",
        "print('Vector Y is', Y)"
      ],
      "execution_count": null,
      "outputs": [
        {
          "output_type": "stream",
          "name": "stdout",
          "text": [
            "Vector Y is [[ 1  2  0]\n",
            " [ 0 -1  2]]\n"
          ]
        }
      ]
    },
    {
      "cell_type": "code",
      "metadata": {
        "colab": {
          "base_uri": "https://localhost:8080/"
        },
        "id": "bDRRSiYCXL8C",
        "outputId": "c8135ba1-131f-43b8-c59d-5b42fc84e43e"
      },
      "source": [
        "import numpy as np\n",
        "X = np.array([[3,2,1],[-1,2,3],[2,-1,1]])\n",
        "print('Vector X is', X)\n"
      ],
      "execution_count": null,
      "outputs": [
        {
          "output_type": "stream",
          "name": "stdout",
          "text": [
            "Vector X is [[ 3  2  1]\n",
            " [-1  2  3]\n",
            " [ 2 -1  1]]\n"
          ]
        }
      ]
    },
    {
      "cell_type": "code",
      "metadata": {
        "colab": {
          "base_uri": "https://localhost:8080/"
        },
        "id": "kgfw7RdxVLmY",
        "outputId": "17c1a584-b84d-4ec0-b925-7c477c72d23b"
      },
      "source": [
        "\n",
        "R = np.dot(W,Y)\n",
        "print(R)"
      ],
      "execution_count": null,
      "outputs": [
        {
          "output_type": "stream",
          "name": "stdout",
          "text": [
            "[[ 1  5 -6]\n",
            " [ 2  6 -4]\n",
            " [ 3  5  2]]\n"
          ]
        }
      ]
    },
    {
      "cell_type": "code",
      "metadata": {
        "colab": {
          "base_uri": "https://localhost:8080/"
        },
        "id": "T_knGOH4VnZM",
        "outputId": "9c93b69b-0681-489b-b17d-136d44d12367"
      },
      "source": [
        "print(np.subtract(R,X))\n",
        "#2) B answer"
      ],
      "execution_count": null,
      "outputs": [
        {
          "output_type": "stream",
          "name": "stdout",
          "text": [
            "[[-2  3 -7]\n",
            " [ 3  4 -7]\n",
            " [ 1  6  1]]\n"
          ]
        }
      ]
    },
    {
      "cell_type": "code",
      "metadata": {
        "id": "B6InNrG1YQ2J"
      },
      "source": [
        "#3) C\n",
        "import numpy as np\n",
        "W = np.array([[1, -3],[2,-2],[3,1]])\n",
        "print('Vector W is', W)\n"
      ],
      "execution_count": null,
      "outputs": []
    },
    {
      "cell_type": "code",
      "metadata": {
        "id": "Vep8p3lCY-aD"
      },
      "source": [
        "import numpy as np\n",
        "Y = np.array([[1, 2, 0],[0,-1,2]])\n",
        "print('Vector Y is', Y)"
      ],
      "execution_count": null,
      "outputs": []
    },
    {
      "cell_type": "code",
      "metadata": {
        "id": "NuOYhiE3ZBFk"
      },
      "source": [
        "import numpy as np \n",
        "Z = np.array([[0,1],[2,3]])\n",
        "print('Vector Z is', Z)"
      ],
      "execution_count": null,
      "outputs": []
    },
    {
      "cell_type": "code",
      "metadata": {
        "colab": {
          "base_uri": "https://localhost:8080/"
        },
        "id": "OvKOeRDKZWzW",
        "outputId": "991bae61-320e-4d79-d082-1c1bab410eb1"
      },
      "source": [
        "print(\"(YW - Z^2)\")\n",
        "print(np.dot(Y,W)-Z^2)"
      ],
      "execution_count": null,
      "outputs": [
        {
          "output_type": "stream",
          "name": "stdout",
          "text": [
            "(YW - Z^2)\n",
            "[[ 7 -6]\n",
            " [ 0  3]]\n"
          ]
        }
      ]
    }
  ]
}