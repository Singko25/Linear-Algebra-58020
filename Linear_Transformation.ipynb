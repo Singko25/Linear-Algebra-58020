{
  "nbformat": 4,
  "nbformat_minor": 0,
  "metadata": {
    "colab": {
      "name": "Linear Transformation.ipynb",
      "provenance": [],
      "authorship_tag": "ABX9TyOLbUVObSndg3spSTTnHTBg",
      "include_colab_link": true
    },
    "kernelspec": {
      "name": "python3",
      "display_name": "Python 3"
    },
    "language_info": {
      "name": "python"
    }
  },
  "cells": [
    {
      "cell_type": "markdown",
      "metadata": {
        "id": "view-in-github",
        "colab_type": "text"
      },
      "source": [
        "<a href=\"https://colab.research.google.com/github/Singko25/Linear-Algebra-58020/blob/main/Linear_Transformation.ipynb\" target=\"_parent\"><img src=\"https://colab.research.google.com/assets/colab-badge.svg\" alt=\"Open In Colab\"/></a>"
      ]
    },
    {
      "cell_type": "markdown",
      "metadata": {
        "id": "OzNjMFKEifHp"
      },
      "source": [
        "###DEMO\n"
      ]
    },
    {
      "cell_type": "code",
      "metadata": {
        "colab": {
          "base_uri": "https://localhost:8080/"
        },
        "id": "HNpYdMDqbLkC",
        "outputId": "94feb39b-497c-49ae-c238-f631b78b2ae9"
      },
      "source": [
        "import numpy as np\n",
        "A = np.array([[4,10,8],[10,26,26],[8,26,26]])\n",
        "print(A)\n",
        "inv_A=np.linalg.inv(A)\n",
        "print(inv_A)\n",
        "B = np.array([[44],[128],[214]])\n",
        "print(B)\n",
        "X = np.dot(inv_A,B)\n",
        "print(X)"
      ],
      "execution_count": 8,
      "outputs": [
        {
          "output_type": "stream",
          "name": "stdout",
          "text": [
            "[[ 4 10  8]\n",
            " [10 26 26]\n",
            " [ 8 26 26]]\n",
            "[[ 0.          0.5        -0.5       ]\n",
            " [ 0.5        -0.38461538  0.23076923]\n",
            " [-0.5         0.23076923 -0.03846154]]\n",
            "[[ 44]\n",
            " [128]\n",
            " [214]]\n",
            "[[-43.        ]\n",
            " [ 22.15384615]\n",
            " [ -0.69230769]]\n"
          ]
        }
      ]
    }
  ]
}